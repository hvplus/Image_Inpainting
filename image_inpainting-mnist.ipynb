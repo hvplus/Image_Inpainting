{
 "cells": [
  {
   "cell_type": "code",
   "execution_count": 1,
   "metadata": {},
   "outputs": [
    {
     "name": "stderr",
     "output_type": "stream",
     "text": [
      "Using TensorFlow backend.\n"
     ]
    }
   ],
   "source": [
    "#import libraries\n",
    "from keras.datasets import mnist\n",
    "import numpy as np\n",
    "from matplotlib import pyplot as plt\n",
    "from keras.layers.convolutional import Conv2D,MaxPooling2D,UpSampling2D\n",
    "from keras.layers.normalization import  BatchNormalization\n",
    "from keras.layers import Reshape,Input,Activation, Flatten, Dropout, Dense, Add, AveragePooling2D\n",
    "from keras.models import Model, load_model\n",
    "from keras.initializers import glorot_uniform\n",
    "import keras\n",
    "import copy\n",
    "from datetime import datetime\n",
    "from keras import regularizers\n",
    "from keras.callbacks import ModelCheckpoint"
   ]
  },
  {
   "cell_type": "code",
   "execution_count": 2,
   "metadata": {},
   "outputs": [],
   "source": [
    "#import cifar data and split it into train and test\n",
    "(x_train, _), (x_test, _) = mnist.load_data()\n",
    "x_train = np.reshape(x_train, (len(x_train), 28, 28, 1))  \n",
    "x_test = np.reshape(x_test, (len(x_test), 28, 28, 1))  "
   ]
  },
  {
   "cell_type": "code",
   "execution_count": 3,
   "metadata": {},
   "outputs": [
    {
     "data": {
      "text/plain": [
       "(60000, 28, 28, 1)"
      ]
     },
     "execution_count": 3,
     "metadata": {},
     "output_type": "execute_result"
    }
   ],
   "source": [
    "x_train.shape"
   ]
  },
  {
   "cell_type": "code",
   "execution_count": 4,
   "metadata": {},
   "outputs": [],
   "source": [
    "class DataProcessing:\n",
    "    \n",
    "    def __init__(self,x_train,x_test):\n",
    "        \n",
    "        self.x_train = x_train\n",
    "        self.x_test = x_test\n",
    "        \n",
    "    \n",
    "    def add_patches(self):\n",
    "        \n",
    "        x_train_patch = copy.deepcopy(self.x_train)\n",
    "        x_test_patch = copy.deepcopy(self.x_test)\n",
    "        x_train_crop = []\n",
    "        x_test_crop = []\n",
    "        #adding patches to the train images\n",
    "        for i in range(len(self.x_train)):\n",
    "            \n",
    "            box = np.array([1]*6*6).reshape([6,6,1])\n",
    "            x, y = np.random.randint(0,28-6, size=2)\n",
    "            x_train_patch[i][x:x+6, y:y+6] = box\n",
    "            x_train_crop.append((x,x+6,y,y+6))\n",
    "            \n",
    "        #adding patches to the test images    \n",
    "        for j in range(len(self.x_test)):\n",
    "            \n",
    "            box = np.array([1]*6*6).reshape([6,6,1])\n",
    "            x, y, = np.random.randint(0,28-6, size=2)\n",
    "            x_test_patch[j][x:x+6, y:y+6] = box\n",
    "            x_test_crop.append((x,x+6,y,y+6))\n",
    "            \n",
    "        return x_train_patch, x_test_patch, x_train_crop, x_test_crop\n",
    "    \n",
    "    \n",
    "    def display_loss_plots(self,history):\n",
    "        \n",
    "        # Plot 2 curves on the same plot\n",
    "        indices = np.float32(range(50))\n",
    "        plt.title(\"Validation and Training Loss Actual Without Batch Normalization\")\n",
    "        plt.plot(indices, history.history['loss'], 'b',label=r'Training Loss') \n",
    "        plt.plot(indices, history.history['val_loss'], 'r', label=r'Validation Loss')\n",
    "        plt.xlabel('Epochs')\n",
    "        plt.ylabel('Loss')\n",
    "        plt.legend();\n",
    "        \n",
    "        \n",
    "    def reconstruct_image(self,x_test_crop,i,x_test_patch):\n",
    "    \n",
    "        x_pred = ae.predict(x_test_patch[i].reshape(1,28,28,1))\n",
    "        x_pred = x_pred.reshape(28,28,1)\n",
    "        coord = x_test_crop[i]\n",
    "        x_reconstructed = copy.deepcopy(x_test_patch[i])\n",
    "        x_reconstructed[coord[0]:coord[1], coord[2]:coord[3]] = x_pred[coord[0]:coord[1], coord[2]:coord[3]]\n",
    "        \n",
    "        return x_reconstructed, x_pred\n",
    "        \n",
    "            \n",
    "    def display_results(self,image_range,x_test_crop,x_test_patch,x_test):\n",
    "        \n",
    "        plt.figure(figsize=(10,10))\n",
    "        titles = [\"Actual Image\", \"Patch Image\", \"Decoded Image\", \"Reconstructed Image\"]\n",
    "        \n",
    "        count = 0\n",
    "        for i in range(len(image_range)):\n",
    "            recon_image, decoded_image = self.reconstruct_image(x_test_crop,image_range[i],x_test_patch)\n",
    "            image_list = [x_test,x_test_patch,decoded_image,recon_image] \n",
    "            for j in range(1,5):\n",
    "                img_type = image_list[j-1]\n",
    "                count = count + 1\n",
    "                if i == 0:\n",
    "                    plt.subplot(4,4,count)    \n",
    "                    plt.xticks([])    \n",
    "                    plt.yticks([])    \n",
    "                    plt.grid(False)\n",
    "                    if j == 1 or j == 2:\n",
    "                        \n",
    "                        plt.imshow(img_type[image_range[i]].reshape(28,28))\n",
    "                        plt.gray()\n",
    "                    else:\n",
    "                        \n",
    "                        plt.imshow(img_type.reshape(28,28))\n",
    "                        plt.gray()\n",
    "                    plt.title(titles[j-1])\n",
    "              \n",
    "                else:\n",
    "                    plt.subplot(4,4,count)    \n",
    "                    plt.xticks([])    \n",
    "                    plt.yticks([])    \n",
    "                    plt.grid(False)    \n",
    "                    if j == 1 or j == 2:\n",
    "                       \n",
    "                        plt.imshow(img_type[image_range[i]].reshape(28,28))\n",
    "                        plt.gray()\n",
    "                    else:\n",
    "                        \n",
    "                        plt.imshow(img_type.reshape(28,28))\n",
    "                        plt.gray()\n",
    "\n",
    "        plt.show()\n",
    "\n",
    "        "
   ]
  },
  {
   "cell_type": "code",
   "execution_count": 5,
   "metadata": {},
   "outputs": [],
   "source": [
    "class AutoEncoder:\n",
    "    \n",
    "    def __init__(self,x_train,x_train_patch):\n",
    "        \n",
    "        self.x_train = x_train\n",
    "        self.x_train_patch = x_train_patch\n",
    "        \n",
    "    def model(self):\n",
    "        \n",
    "        X_inp = Input(shape=(28,28,1))\n",
    "        \n",
    "        #Encoder\n",
    "        X = Conv2D(32, (3,3), name = 'conv1_enc',padding = 'same', activation='relu',kernel_regularizer=regularizers.l2(0.01))(X_inp)\n",
    "        X = MaxPooling2D((2,2), padding = 'same')(X)\n",
    "        #X = BatchNormalization()(X)\n",
    "        X = Conv2D(32, (3,3), name = 'conv2_enc',padding = 'same', activation='relu',kernel_regularizer=regularizers.l2(0.01) )(X)\n",
    "        X = MaxPooling2D((2,2), padding = 'same')(X)\n",
    "        #X = BatchNormalization()(X)\n",
    "        \n",
    "        #Decoder\n",
    "        X = Conv2D(32, (3,3), name = 'conv1_dec',padding = 'same', activation='relu',kernel_regularizer=regularizers.l2(0.01) )(X)\n",
    "        X = UpSampling2D((2,2))(X)\n",
    "        #X = BatchNormalization()(X)\n",
    "        X = Conv2D(32, (3,3), name = 'conv2_dec',padding = 'same', activation='relu',kernel_regularizer=regularizers.l2(0.01) )(X)\n",
    "        X = UpSampling2D((2,2))(X)\n",
    "        #X = BatchNormalization()(X)\n",
    "        recon_image = Conv2D(1, (3,3), name = 'conv3_dec',padding = 'same', activation='tanh', kernel_regularizer=regularizers.l2(0.01))(X)\n",
    "        \n",
    "        autoencoder = Model(X_inp, recon_image)\n",
    "        \n",
    "        return autoencoder\n",
    "        "
   ]
  },
  {
   "cell_type": "code",
   "execution_count": 6,
   "metadata": {},
   "outputs": [
    {
     "name": "stdout",
     "output_type": "stream",
     "text": [
      "Model: \"model_1\"\n",
      "_________________________________________________________________\n",
      "Layer (type)                 Output Shape              Param #   \n",
      "=================================================================\n",
      "input_1 (InputLayer)         (None, 28, 28, 1)         0         \n",
      "_________________________________________________________________\n",
      "conv1_enc (Conv2D)           (None, 28, 28, 32)        320       \n",
      "_________________________________________________________________\n",
      "max_pooling2d_1 (MaxPooling2 (None, 14, 14, 32)        0         \n",
      "_________________________________________________________________\n",
      "conv2_enc (Conv2D)           (None, 14, 14, 32)        9248      \n",
      "_________________________________________________________________\n",
      "max_pooling2d_2 (MaxPooling2 (None, 7, 7, 32)          0         \n",
      "_________________________________________________________________\n",
      "conv1_dec (Conv2D)           (None, 7, 7, 32)          9248      \n",
      "_________________________________________________________________\n",
      "up_sampling2d_1 (UpSampling2 (None, 14, 14, 32)        0         \n",
      "_________________________________________________________________\n",
      "conv2_dec (Conv2D)           (None, 14, 14, 32)        9248      \n",
      "_________________________________________________________________\n",
      "up_sampling2d_2 (UpSampling2 (None, 28, 28, 32)        0         \n",
      "_________________________________________________________________\n",
      "conv3_dec (Conv2D)           (None, 28, 28, 1)         289       \n",
      "=================================================================\n",
      "Total params: 28,353\n",
      "Trainable params: 28,353\n",
      "Non-trainable params: 0\n",
      "_________________________________________________________________\n",
      "Train on 60000 samples, validate on 10000 samples\n",
      "Epoch 1/50\n",
      "60000/60000 [==============================] - 5s 77us/step - loss: 0.5707 - val_loss: 0.2381\n",
      "Epoch 2/50\n",
      "60000/60000 [==============================] - 4s 60us/step - loss: 0.1257 - val_loss: 0.0735\n",
      "Epoch 3/50\n",
      "60000/60000 [==============================] - 4s 61us/step - loss: 0.0679 - val_loss: 0.0652\n",
      "Epoch 4/50\n",
      "60000/60000 [==============================] - 4s 60us/step - loss: 0.0643 - val_loss: 0.0637\n",
      "Epoch 5/50\n",
      "60000/60000 [==============================] - 4s 61us/step - loss: 0.0633 - val_loss: 0.0635\n",
      "Epoch 6/50\n",
      "60000/60000 [==============================] - 4s 59us/step - loss: 0.0627 - val_loss: 0.0624\n",
      "Epoch 7/50\n",
      "60000/60000 [==============================] - 4s 60us/step - loss: 0.0624 - val_loss: 0.0627\n",
      "Epoch 8/50\n",
      "60000/60000 [==============================] - 4s 60us/step - loss: 0.0621 - val_loss: 0.0619\n",
      "Epoch 9/50\n",
      "60000/60000 [==============================] - 4s 60us/step - loss: 0.0619 - val_loss: 0.0618\n",
      "Epoch 10/50\n",
      "60000/60000 [==============================] - 4s 60us/step - loss: 0.0617 - val_loss: 0.0614\n",
      "Epoch 11/50\n",
      "60000/60000 [==============================] - 4s 60us/step - loss: 0.0615 - val_loss: 0.0617\n",
      "Epoch 12/50\n",
      "60000/60000 [==============================] - 4s 62us/step - loss: 0.0614 - val_loss: 0.0610\n",
      "Epoch 13/50\n",
      "60000/60000 [==============================] - 4s 60us/step - loss: 0.0612 - val_loss: 0.0609\n",
      "Epoch 14/50\n",
      "60000/60000 [==============================] - 4s 60us/step - loss: 0.0611 - val_loss: 0.0610\n",
      "Epoch 15/50\n",
      "60000/60000 [==============================] - 4s 60us/step - loss: 0.0610 - val_loss: 0.0620\n",
      "Epoch 16/50\n",
      "60000/60000 [==============================] - 4s 60us/step - loss: 0.0609 - val_loss: 0.0607\n",
      "Epoch 17/50\n",
      "60000/60000 [==============================] - 4s 61us/step - loss: 0.0608 - val_loss: 0.0610\n",
      "Epoch 18/50\n",
      "60000/60000 [==============================] - 4s 61us/step - loss: 0.0608 - val_loss: 0.0606\n",
      "Epoch 19/50\n",
      "60000/60000 [==============================] - 4s 59us/step - loss: 0.0607 - val_loss: 0.0604\n",
      "Epoch 20/50\n",
      "60000/60000 [==============================] - 4s 61us/step - loss: 0.0606 - val_loss: 0.0604\n",
      "Epoch 21/50\n",
      "60000/60000 [==============================] - 4s 60us/step - loss: 0.0606 - val_loss: 0.0603\n",
      "Epoch 22/50\n",
      "60000/60000 [==============================] - 4s 60us/step - loss: 0.0605 - val_loss: 0.0603\n",
      "Epoch 23/50\n",
      "60000/60000 [==============================] - 4s 59us/step - loss: 0.0605 - val_loss: 0.0605\n",
      "Epoch 24/50\n",
      "60000/60000 [==============================] - 4s 60us/step - loss: 0.0604 - val_loss: 0.0608\n",
      "Epoch 25/50\n",
      "60000/60000 [==============================] - 4s 60us/step - loss: 0.0604 - val_loss: 0.0602\n",
      "Epoch 26/50\n",
      "60000/60000 [==============================] - 4s 60us/step - loss: 0.0604 - val_loss: 0.0601\n",
      "Epoch 27/50\n",
      "60000/60000 [==============================] - 4s 60us/step - loss: 0.0603 - val_loss: 0.0603\n",
      "Epoch 28/50\n",
      "60000/60000 [==============================] - 4s 60us/step - loss: 0.0603 - val_loss: 0.0606\n",
      "Epoch 29/50\n",
      "60000/60000 [==============================] - 4s 59us/step - loss: 0.0603 - val_loss: 0.0600\n",
      "Epoch 30/50\n",
      "60000/60000 [==============================] - 4s 60us/step - loss: 0.0602 - val_loss: 0.0600\n",
      "Epoch 31/50\n",
      "60000/60000 [==============================] - 4s 60us/step - loss: 0.0602 - val_loss: 0.0600\n",
      "Epoch 32/50\n",
      "60000/60000 [==============================] - 4s 59us/step - loss: 0.0602 - val_loss: 0.0601\n",
      "Epoch 33/50\n",
      "60000/60000 [==============================] - 4s 61us/step - loss: 0.0602 - val_loss: 0.0600\n",
      "Epoch 34/50\n",
      "60000/60000 [==============================] - 4s 60us/step - loss: 0.0601 - val_loss: 0.0599\n",
      "Epoch 35/50\n",
      "60000/60000 [==============================] - 4s 59us/step - loss: 0.0601 - val_loss: 0.0600\n",
      "Epoch 36/50\n",
      "60000/60000 [==============================] - 4s 60us/step - loss: 0.0601 - val_loss: 0.0599\n",
      "Epoch 37/50\n",
      "60000/60000 [==============================] - 4s 60us/step - loss: 0.0601 - val_loss: 0.0602\n",
      "Epoch 38/50\n",
      "60000/60000 [==============================] - 4s 61us/step - loss: 0.0601 - val_loss: 0.0606\n",
      "Epoch 39/50\n",
      "60000/60000 [==============================] - 4s 61us/step - loss: 0.0600 - val_loss: 0.0601\n",
      "Epoch 40/50\n",
      "60000/60000 [==============================] - 4s 60us/step - loss: 0.0600 - val_loss: 0.0605\n",
      "Epoch 41/50\n",
      "60000/60000 [==============================] - 4s 60us/step - loss: 0.0600 - val_loss: 0.0600\n",
      "Epoch 42/50\n",
      "60000/60000 [==============================] - 4s 60us/step - loss: 0.0600 - val_loss: 0.0602\n",
      "Epoch 43/50\n",
      "60000/60000 [==============================] - 4s 59us/step - loss: 0.0600 - val_loss: 0.0600\n",
      "Epoch 44/50\n",
      "60000/60000 [==============================] - 4s 60us/step - loss: 0.0600 - val_loss: 0.0597\n",
      "Epoch 45/50\n",
      "60000/60000 [==============================] - 4s 59us/step - loss: 0.0599 - val_loss: 0.0605\n",
      "Epoch 46/50\n",
      "60000/60000 [==============================] - 4s 60us/step - loss: 0.0599 - val_loss: 0.0598\n",
      "Epoch 47/50\n",
      "60000/60000 [==============================] - 4s 61us/step - loss: 0.0599 - val_loss: 0.0597\n",
      "Epoch 48/50\n",
      "60000/60000 [==============================] - 4s 60us/step - loss: 0.0599 - val_loss: 0.0599\n",
      "Epoch 49/50\n",
      "60000/60000 [==============================] - 4s 60us/step - loss: 0.0599 - val_loss: 0.0597\n",
      "Epoch 50/50\n",
      "60000/60000 [==============================] - 4s 59us/step - loss: 0.0599 - val_loss: 0.0596\n"
     ]
    }
   ],
   "source": [
    "\n",
    "if __name__ == '__main__':\n",
    "    \n",
    "    \n",
    "    x_train = x_train.astype('float32') / 255.\n",
    "    x_test = x_test.astype('float32') / 255.\n",
    "    data_proc = DataProcessing(x_train,x_test)\n",
    "    x_train_patch, x_test_patch, x_train_crop, x_test_crop = data_proc.add_patches()\n",
    "    \n",
    "    ae_obj = AutoEncoder(x_train,x_train_patch)\n",
    "    ae = ae_obj.model()\n",
    "    opt = keras.optimizers.RMSprop(lr=0.0001, decay=1e-5)\n",
    "    ae.compile(optimizer = opt, loss  = 'mse')\n",
    "    \n",
    "    mydir = 'IP_Checkpoints/'\n",
    "    \n",
    "    filepath=\"IP_Checkpoints/weights-improvement-{epoch:02d}.hdf5\"\n",
    "    \n",
    "    checkpoint = ModelCheckpoint(filepath, monitor='loss', verbose=1, save_best_only=True, mode='min')\n",
    "    logdir = \"logs/scalars/\" + datetime.now().strftime(\"%Y%m%d-%H%M%S\")\n",
    "    tensorboard_callback = keras.callbacks.TensorBoard(log_dir=logdir)\n",
    "    \n",
    "    callbacks_list = [checkpoint,tensorboard_callback]\n",
    "    \n",
    "    ae.summary()\n",
    "    histpry = ae.fit(x_train_patch, x_train, epochs = 50, batch_size = 128, shuffle = True, validation_data=(x_test_patch, x_test))\n",
    "    \n",
    "    \n",
    "    \n",
    "    "
   ]
  },
  {
   "cell_type": "code",
   "execution_count": 7,
   "metadata": {},
   "outputs": [
    {
     "data": {
      "image/png": "[encoded data removed]",
      "text/plain": [
       "<Figure size 432x288 with 1 Axes>"
      ]
     },
     "metadata": {
      "needs_background": "light"
     },
     "output_type": "display_data"
    }
   ],
   "source": [
    "data_proc = DataProcessing(x_train,x_test)\n",
    "data_proc.display_loss_plots(histpry)\n"
   ]
  },
  {
   "cell_type": "code",
   "execution_count": 8,
   "metadata": {},
   "outputs": [
    {
     "data": {
      "image/png": "[encoded data removed]",
      "text/plain": [
       "<Figure size 720x720 with 16 Axes>"
      ]
     },
     "metadata": {},
     "output_type": "display_data"
    }
   ],
   "source": [
    "data_proc.display_results(list(range(203,207)),x_test_crop,x_test_patch,x_test)"
   ]
  },
  {
   "cell_type": "code",
   "execution_count": 9,
   "metadata": {},
   "outputs": [
    {
     "data": {
      "text/plain": [
       "[78, 79, 80, 81, 82]"
      ]
     },
     "execution_count": 9,
     "metadata": {},
     "output_type": "execute_result"
    }
   ],
   "source": [
    "list(range(78,83))"
   ]
  },
  {
   "cell_type": "code",
   "execution_count": 10,
   "metadata": {},
   "outputs": [
    {
     "name": "stdout",
     "output_type": "stream",
     "text": [
      "hello\n",
      "hello\n",
      "hello\n",
      "hello\n"
     ]
    }
   ],
   "source": [
    "for j in range(1,5):\n",
    "    print(\"hello\")"
   ]
  },
  {
   "cell_type": "code",
   "execution_count": null,
   "metadata": {},
   "outputs": [],
   "source": []
  }
 ],
 "metadata": {
  "kernelspec": {
   "display_name": "Python 3",
   "language": "python",
   "name": "python3"
  },
  "language_info": {
   "codemirror_mode": {
    "name": "ipython",
    "version": 3
   },
   "file_extension": ".py",
   "mimetype": "text/x-python",
   "name": "python",
   "nbconvert_exporter": "python",
   "pygments_lexer": "ipython3",
   "version": "3.7.4"
  }
 },
 "nbformat": 4,
 "nbformat_minor": 2
}
